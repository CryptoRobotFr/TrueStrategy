{
  "nbformat": 4,
  "nbformat_minor": 0,
  "metadata": {
    "colab": {
      "name": "DCA.ipynb",
      "provenance": [],
      "authorship_tag": "ABX9TyNQU3bv+gdqp9e1L31mImpQ",
      "include_colab_link": true
    },
    "kernelspec": {
      "name": "python3",
      "display_name": "Python 3"
    },
    "language_info": {
      "name": "python"
    }
  },
  "cells": [
    {
      "cell_type": "markdown",
      "metadata": {
        "id": "view-in-github",
        "colab_type": "text"
      },
      "source": [
        "<a href=\"https://colab.research.google.com/github/CryptoRobotFr/TrueStrategy/blob/main/dca/DCA.ipynb\" target=\"_parent\"><img src=\"https://colab.research.google.com/assets/colab-badge.svg\" alt=\"Open In Colab\"/></a>"
      ]
    },
    {
      "cell_type": "code",
      "metadata": {
        "id": "4lE-X_iAzCPL"
      },
      "source": [
        "!pip install python-binance \n",
        "!pip install ta"
      ],
      "execution_count": null,
      "outputs": []
    },
    {
      "cell_type": "code",
      "metadata": {
        "colab": {
          "base_uri": "https://localhost:8080/"
        },
        "id": "bht8gx4lzIj7",
        "outputId": "265150f6-79f9-44cb-9d52-84a6c0bd4e6d"
      },
      "source": [
        "# -- Import --\n",
        "import pandas as pd\n",
        "from binance.client import Client\n",
        "import ta\n",
        "import matplotlib.pyplot as plt\n",
        "import numpy as np\n",
        "\n",
        "# -- Define Binance Client --\n",
        "client = Client()\n",
        "\n",
        "# -- You can change the crypto pair ,the start date and the time interval below --\n",
        "pairName = \"ETHUSDT\"\n",
        "startDate = \"01 january 2017\"\n",
        "timeInterval = Client.KLINE_INTERVAL_1WEEK\n",
        "\n",
        "# -- Load all price data from binance API --\n",
        "klinesT = client.get_historical_klines(pairName, timeInterval, startDate)\n",
        "\n",
        "# -- Define your dataset --\n",
        "df = pd.DataFrame(klinesT, columns = ['timestamp', 'open', 'high', 'low', 'close', 'volume', 'close_time', 'quote_av', 'trades', 'tb_base_av', 'tb_quote_av', 'ignore' ])\n",
        "df['close'] = pd.to_numeric(df['close'])\n",
        "df['high'] = pd.to_numeric(df['high'])\n",
        "df['low'] = pd.to_numeric(df['low'])\n",
        "df['open'] = pd.to_numeric(df['open'])\n",
        "\n",
        "# -- Set the date to index --\n",
        "df = df.set_index(df['timestamp'])\n",
        "df.index = pd.to_datetime(df.index, unit='ms')\n",
        "del df['timestamp']\n",
        "\n",
        "print(\"Data loaded 100%\")\n",
        "\n",
        "# -- Uncomment the line below if you want to check your price dataset --\n",
        "# df"
      ],
      "execution_count": 18,
      "outputs": [
        {
          "output_type": "stream",
          "name": "stdout",
          "text": [
            "Data loaded 100%\n"
          ]
        }
      ]
    },
    {
      "cell_type": "code",
      "metadata": {
        "colab": {
          "base_uri": "https://localhost:8080/",
          "height": 464
        },
        "id": "sZaXPc13zjp2",
        "outputId": "a1d9174d-7189-4ab6-b21d-26f10343b82f"
      },
      "source": [
        "# -- Indicator variable --\n",
        "# stochWindow = 14\n",
        "\n",
        "# -- Drop all columns we do not need --\n",
        "df.drop(columns=df.columns.difference(['open','high','low','close','volume']), inplace=True)\n",
        "\n",
        "# -- Indicators, you can edit every value --\n",
        "# df['STOCH_RSI'] = ta.momentum.stochrsi(close=df['close'], window=stochWindow)\n",
        "# df['RSI'] = ta.momentum.rsi(close=df['close'], window=stochWindow)\n",
        "df['LAST_ATH'] = df['close'].cummax()\n",
        "\n",
        "print(\"Indicators loaded 100%\")\n",
        "\n",
        "# -- Uncomment the line below if you want to check your dataset with indicators --\n",
        "df"
      ],
      "execution_count": 19,
      "outputs": [
        {
          "output_type": "stream",
          "name": "stdout",
          "text": [
            "Indicators loaded 100%\n"
          ]
        },
        {
          "output_type": "execute_result",
          "data": {
            "text/html": [
              "<div>\n",
              "<style scoped>\n",
              "    .dataframe tbody tr th:only-of-type {\n",
              "        vertical-align: middle;\n",
              "    }\n",
              "\n",
              "    .dataframe tbody tr th {\n",
              "        vertical-align: top;\n",
              "    }\n",
              "\n",
              "    .dataframe thead th {\n",
              "        text-align: right;\n",
              "    }\n",
              "</style>\n",
              "<table border=\"1\" class=\"dataframe\">\n",
              "  <thead>\n",
              "    <tr style=\"text-align: right;\">\n",
              "      <th></th>\n",
              "      <th>open</th>\n",
              "      <th>high</th>\n",
              "      <th>low</th>\n",
              "      <th>close</th>\n",
              "      <th>volume</th>\n",
              "      <th>LAST_ATH</th>\n",
              "    </tr>\n",
              "    <tr>\n",
              "      <th>timestamp</th>\n",
              "      <th></th>\n",
              "      <th></th>\n",
              "      <th></th>\n",
              "      <th></th>\n",
              "      <th></th>\n",
              "      <th></th>\n",
              "    </tr>\n",
              "  </thead>\n",
              "  <tbody>\n",
              "    <tr>\n",
              "      <th>2017-08-14</th>\n",
              "      <td>301.13</td>\n",
              "      <td>312.18</td>\n",
              "      <td>278.00</td>\n",
              "      <td>299.10</td>\n",
              "      <td>21224.89324000</td>\n",
              "      <td>299.10</td>\n",
              "    </tr>\n",
              "    <tr>\n",
              "      <th>2017-08-21</th>\n",
              "      <td>299.10</td>\n",
              "      <td>348.13</td>\n",
              "      <td>144.21</td>\n",
              "      <td>348.13</td>\n",
              "      <td>45233.88589000</td>\n",
              "      <td>348.13</td>\n",
              "    </tr>\n",
              "    <tr>\n",
              "      <th>2017-08-28</th>\n",
              "      <td>348.11</td>\n",
              "      <td>394.39</td>\n",
              "      <td>320.08</td>\n",
              "      <td>341.77</td>\n",
              "      <td>33886.41427000</td>\n",
              "      <td>348.13</td>\n",
              "    </tr>\n",
              "    <tr>\n",
              "      <th>2017-09-04</th>\n",
              "      <td>339.29</td>\n",
              "      <td>344.55</td>\n",
              "      <td>235.55</td>\n",
              "      <td>293.50</td>\n",
              "      <td>35485.23332000</td>\n",
              "      <td>348.13</td>\n",
              "    </tr>\n",
              "    <tr>\n",
              "      <th>2017-09-11</th>\n",
              "      <td>293.51</td>\n",
              "      <td>316.46</td>\n",
              "      <td>192.00</td>\n",
              "      <td>257.55</td>\n",
              "      <td>58259.63439000</td>\n",
              "      <td>348.13</td>\n",
              "    </tr>\n",
              "    <tr>\n",
              "      <th>...</th>\n",
              "      <td>...</td>\n",
              "      <td>...</td>\n",
              "      <td>...</td>\n",
              "      <td>...</td>\n",
              "      <td>...</td>\n",
              "      <td>...</td>\n",
              "    </tr>\n",
              "    <tr>\n",
              "      <th>2021-10-04</th>\n",
              "      <td>3417.73</td>\n",
              "      <td>3695.00</td>\n",
              "      <td>3270.00</td>\n",
              "      <td>3414.22</td>\n",
              "      <td>3329200.94840000</td>\n",
              "      <td>3950.29</td>\n",
              "    </tr>\n",
              "    <tr>\n",
              "      <th>2021-10-11</th>\n",
              "      <td>3414.22</td>\n",
              "      <td>3971.00</td>\n",
              "      <td>3371.00</td>\n",
              "      <td>3846.85</td>\n",
              "      <td>3025204.91330000</td>\n",
              "      <td>3950.29</td>\n",
              "    </tr>\n",
              "    <tr>\n",
              "      <th>2021-10-18</th>\n",
              "      <td>3847.00</td>\n",
              "      <td>4375.00</td>\n",
              "      <td>3676.00</td>\n",
              "      <td>4082.33</td>\n",
              "      <td>3218953.34257000</td>\n",
              "      <td>4082.33</td>\n",
              "    </tr>\n",
              "    <tr>\n",
              "      <th>2021-10-25</th>\n",
              "      <td>4082.33</td>\n",
              "      <td>4460.47</td>\n",
              "      <td>3890.17</td>\n",
              "      <td>4287.21</td>\n",
              "      <td>3405230.00401000</td>\n",
              "      <td>4287.21</td>\n",
              "    </tr>\n",
              "    <tr>\n",
              "      <th>2021-11-01</th>\n",
              "      <td>4287.48</td>\n",
              "      <td>4665.87</td>\n",
              "      <td>4146.30</td>\n",
              "      <td>4482.99</td>\n",
              "      <td>1864872.31441000</td>\n",
              "      <td>4482.99</td>\n",
              "    </tr>\n",
              "  </tbody>\n",
              "</table>\n",
              "<p>221 rows × 6 columns</p>\n",
              "</div>"
            ],
            "text/plain": [
              "               open     high      low    close            volume  LAST_ATH\n",
              "timestamp                                                                 \n",
              "2017-08-14   301.13   312.18   278.00   299.10    21224.89324000    299.10\n",
              "2017-08-21   299.10   348.13   144.21   348.13    45233.88589000    348.13\n",
              "2017-08-28   348.11   394.39   320.08   341.77    33886.41427000    348.13\n",
              "2017-09-04   339.29   344.55   235.55   293.50    35485.23332000    348.13\n",
              "2017-09-11   293.51   316.46   192.00   257.55    58259.63439000    348.13\n",
              "...             ...      ...      ...      ...               ...       ...\n",
              "2021-10-04  3417.73  3695.00  3270.00  3414.22  3329200.94840000   3950.29\n",
              "2021-10-11  3414.22  3971.00  3371.00  3846.85  3025204.91330000   3950.29\n",
              "2021-10-18  3847.00  4375.00  3676.00  4082.33  3218953.34257000   4082.33\n",
              "2021-10-25  4082.33  4460.47  3890.17  4287.21  3405230.00401000   4287.21\n",
              "2021-11-01  4287.48  4665.87  4146.30  4482.99  1864872.31441000   4482.99\n",
              "\n",
              "[221 rows x 6 columns]"
            ]
          },
          "metadata": {},
          "execution_count": 19
        }
      ]
    },
    {
      "cell_type": "code",
      "metadata": {
        "colab": {
          "base_uri": "https://localhost:8080/"
        },
        "id": "UXaOApnI1hXC",
        "outputId": "a2e8e7dd-534c-411e-b96e-8ab485a7f418"
      },
      "source": [
        "dfTest = df[:]\n",
        "weeklyAmount = 30\n",
        "takerFee = 0.0007\n",
        "buyAmount = weeklyAmount\n",
        "mediumBuy = 0\n",
        "totalInvest = 0\n",
        "btcWallet = 0\n",
        "\n",
        "for index, row in dfTest.iterrows():\n",
        "    totalInvest += buyAmount\n",
        "    buyBTC = buyAmount / row['close']\n",
        "    btcWallet += buyBTC - takerFee * buyBTC\n",
        "    mediumBuy += 1\n",
        "\n",
        "resultInDollar = btcWallet * dfTest.iloc[-1]['close']\n",
        "perfInPct = (resultInDollar - totalInvest)/totalInvest\n",
        "buyAndHoldPerf = (dfTest.iloc[-1]['close'] - dfTest.iloc[0]['close'])/dfTest.iloc[0]['close']\n",
        "print('Buy',mediumBuy,'time',weeklyAmount,'$')   \n",
        "print('Total invest', totalInvest, '$')\n",
        "print('Final wallet', round(btcWallet,3), 'BTC')\n",
        "print('Final wallet equivalent', round(resultInDollar,2), '$')\n",
        "print('Performance',round(perfInPct*100,2), '%')\n",
        "print('Buy and Hold performance', round(buyAndHoldPerf*100,2), '%')"
      ],
      "execution_count": 20,
      "outputs": [
        {
          "output_type": "stream",
          "name": "stdout",
          "text": [
            "Buy 221 time 30 $\n",
            "Total invest 6630 $\n",
            "Final wallet 22.975 BTC\n",
            "Final wallet equivalent 102995.79 $\n",
            "Performance 1453.48 %\n",
            "Buy and Hold performance 1398.83 %\n"
          ]
        }
      ]
    },
    {
      "cell_type": "code",
      "metadata": {
        "colab": {
          "base_uri": "https://localhost:8080/"
        },
        "id": "uELmJc9f5hmJ",
        "outputId": "d7766786-87cc-4d91-bf12-b232126e1def"
      },
      "source": [
        "dfTest = df[:]\n",
        "weeklyAmount = 30\n",
        "takerFee = 0.0007\n",
        "buyAmount = 0\n",
        "bigBuy = 0\n",
        "mediumBuy = 0\n",
        "lowBuy = 0\n",
        "totalEntry = 0\n",
        "totalInvest = 0\n",
        "btcWallet = 0\n",
        "\n",
        "for index, row in dfTest.iterrows():\n",
        "    if row['close'] <= 0.5 * row['LAST_ATH']:\n",
        "        buyAmount = 2 * weeklyAmount\n",
        "        bigBuy+=1\n",
        "    elif row['close'] > 0.5 * row['LAST_ATH'] and row['close'] <= 0.8 * row['LAST_ATH']:\n",
        "        mediumBuy+=1\n",
        "        buyAmount = 1 * weeklyAmount\n",
        "    elif row['close'] > 0.8 * row['LAST_ATH']:\n",
        "        lowBuy+=1\n",
        "        buyAmount = 0.5 * weeklyAmount\n",
        "        # buyAmount = 0\n",
        "    totalInvest += buyAmount\n",
        "    buyBTC = buyAmount / row['close']\n",
        "    btcWallet += buyBTC - takerFee * buyBTC\n",
        "    totalEntry += 1\n",
        "\n",
        "resultInDollar = btcWallet * dfTest.iloc[-1]['close']\n",
        "perfInPct = (resultInDollar - totalInvest)/totalInvest\n",
        "buyAndHoldPerf = (dfTest.iloc[-1]['close'] - dfTest.iloc[0]['close'])/dfTest.iloc[0]['close']\n",
        "print('Buy',bigBuy,'time',2*weeklyAmount,'$')   \n",
        "print('Buy',mediumBuy,'time',1*weeklyAmount,'$')   \n",
        "print('Buy',lowBuy,'time',0.5*weeklyAmount,'$')   \n",
        "print('Total invest', totalInvest, '$')\n",
        "print('Final wallet', round(btcWallet,3), 'BTC')\n",
        "print('Final wallet equivalent', round(resultInDollar,2), '$')\n",
        "print('Performance',round(perfInPct*100,2), '%')\n",
        "print('Buy and Hold performance', round(buyAndHoldPerf*100,2), '%')"
      ],
      "execution_count": 22,
      "outputs": [
        {
          "output_type": "stream",
          "name": "stdout",
          "text": [
            "Buy 142 time 60 $\n",
            "Buy 27 time 30 $\n",
            "Buy 52 time 15.0 $\n",
            "Total invest 10110.0 $\n",
            "Final wallet 42.11 BTC\n",
            "Final wallet equivalent 188777.69 $\n",
            "Performance 1767.24 %\n",
            "Buy and Hold performance 1398.83 %\n"
          ]
        }
      ]
    }
  ]
}