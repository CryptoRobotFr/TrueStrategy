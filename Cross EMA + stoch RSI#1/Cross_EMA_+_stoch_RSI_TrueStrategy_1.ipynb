{
  "nbformat": 4,
  "nbformat_minor": 0,
  "metadata": {
    "colab": {
      "name": "Cross EMA + stoch RSI - TrueStrategy#1.ipynb",
      "provenance": [],
      "collapsed_sections": [],
      "authorship_tag": "ABX9TyN/oY0YwetasEz2TrlFIP4X",
      "include_colab_link": true
    },
    "kernelspec": {
      "name": "python3",
      "display_name": "Python 3"
    },
    "language_info": {
      "name": "python"
    }
  },
  "cells": [
    {
      "cell_type": "markdown",
      "metadata": {
        "id": "view-in-github",
        "colab_type": "text"
      },
      "source": [
        "<a href=\"https://colab.research.google.com/github/CryptoRobotFr/TrueStrategy/blob/main/Cross%20EMA%20%2B%20stoch%20RSI%231/Cross_EMA_%2B_stoch_RSI_TrueStrategy_1.ipynb\" target=\"_parent\"><img src=\"https://colab.research.google.com/assets/colab-badge.svg\" alt=\"Open In Colab\"/></a>"
      ]
    },
    {
      "cell_type": "code",
      "metadata": {
        "id": "Yfi2qr-OmHJb"
      },
      "source": [
        "pip install python-binance"
      ],
      "execution_count": null,
      "outputs": []
    },
    {
      "cell_type": "code",
      "metadata": {
        "id": "GSVP99iMmTt4"
      },
      "source": [
        "pip install ta"
      ],
      "execution_count": null,
      "outputs": []
    },
    {
      "cell_type": "markdown",
      "metadata": {
        "id": "XwM1VV4d2V-R"
      },
      "source": [
        "<h1>Import Dataset</h1>"
      ]
    },
    {
      "cell_type": "code",
      "metadata": {
        "colab": {
          "base_uri": "https://localhost:8080/"
        },
        "id": "1F0pok5BmY3X",
        "outputId": "d35ca4e3-bc67-407f-b0c1-2f18f67975bc"
      },
      "source": [
        "import pandas as pd\n",
        "from binance.client import Client\n",
        "import ta\n",
        "import matplotlib.pyplot as plt\n",
        "\n",
        "client = Client()\n",
        "\n",
        "klinesT = client.get_historical_klines(\"ETHUSDT\", Client.KLINE_INTERVAL_1HOUR, \"01 january 2017\")\n",
        "\n",
        "df = pd.DataFrame(klinesT, columns = ['timestamp', 'open', 'high', 'low', 'close', 'volume', 'close_time', 'quote_av', 'trades', 'tb_base_av', 'tb_quote_av', 'ignore' ])\n",
        "df['close'] = pd.to_numeric(df['close'])\n",
        "df['high'] = pd.to_numeric(df['high'])\n",
        "df['low'] = pd.to_numeric(df['low'])\n",
        "df['open'] = pd.to_numeric(df['open'])\n",
        "\n",
        "del df['ignore']\n",
        "del df['close_time']\n",
        "del df['quote_av']\n",
        "del df['trades']\n",
        "del df['tb_base_av']\n",
        "del df['tb_quote_av']\n",
        "\n",
        "df = df.set_index(df['timestamp'])\n",
        "df.index = pd.to_datetime(df.index, unit='ms')\n",
        "del df['timestamp']\n",
        "print(df)"
      ],
      "execution_count": 3,
      "outputs": [
        {
          "output_type": "stream",
          "text": [
            "                        open     high      low    close          volume\n",
            "timestamp                                                              \n",
            "2017-08-17 04:00:00   301.13   302.57   298.00   301.61    125.66877000\n",
            "2017-08-17 05:00:00   301.61   303.28   300.00   303.10    377.67246000\n",
            "2017-08-17 06:00:00   302.40   304.44   301.90   302.68    303.86672000\n",
            "2017-08-17 07:00:00   302.68   307.96   302.60   307.96    754.74510000\n",
            "2017-08-17 08:00:00   307.95   309.97   307.00   308.62    150.75029000\n",
            "...                      ...      ...      ...      ...             ...\n",
            "2021-08-08 06:00:00  3130.33  3184.87  3130.32  3167.07  57387.79317000\n",
            "2021-08-08 07:00:00  3167.25  3187.00  3131.52  3137.84  47438.39619000\n",
            "2021-08-08 08:00:00  3137.85  3156.00  3121.00  3124.12  25491.65035000\n",
            "2021-08-08 09:00:00  3124.13  3160.00  3121.00  3139.64  21967.28302000\n",
            "2021-08-08 10:00:00  3139.65  3151.66  3135.00  3135.00   4252.69024000\n",
            "\n",
            "[34735 rows x 5 columns]\n"
          ],
          "name": "stdout"
        }
      ]
    },
    {
      "cell_type": "markdown",
      "metadata": {
        "id": "-1iFHBre2Suk"
      },
      "source": [
        "<h1>Backtest Execution</h1>"
      ]
    },
    {
      "cell_type": "markdown",
      "metadata": {
        "id": "uDzxMm7APl33"
      },
      "source": [
        "Create Indicators"
      ]
    },
    {
      "cell_type": "code",
      "metadata": {
        "colab": {
          "base_uri": "https://localhost:8080/",
          "height": 450
        },
        "id": "VznGtRXG_g_s",
        "outputId": "55136176-42a7-41b8-d647-2ee525480e69"
      },
      "source": [
        "#dfTest = df['2020-07-16':]\n",
        "dfTest = df.copy()\n",
        "\n",
        "# dfTest['histo_macd']=ta.trend.macd_diff(dfTest['close'], 26, 12, 9)\n",
        "dfTest['EMA28']=ta.trend.ema_indicator(dfTest['close'], 28)\n",
        "dfTest['EMA48']=ta.trend.ema_indicator(dfTest['close'], 48)\n",
        "# dfTest['MACD']=ta.trend.macd(dfTest['close'], 26, 12, 9)\n",
        "# dfTest['MACD_SIGNAL']=ta.trend.macd_signal(dfTest['close'], 26, 12, 9)\n",
        "# dfTest['MACD_HISTO']= dfTest['MACD'] - dfTest['MACD_SIGNAL']\n",
        "# dfTest['EMA8']=ta.trend.ema_indicator(dfTest['close'], 8)\n",
        "# dfTest['EMA14']=ta.trend.ema_indicator(dfTest['close'], 14)\n",
        "# dfTest['EMA50']=ta.trend.ema_indicator(dfTest['close'], 50)\n",
        "dfTest['STOCH_RSI']=ta.momentum.stochrsi(dfTest['close'])\n",
        "# dfTest['MEAN_STOCH_RSI'] = ta.trend.sma_indicator(dfTest['STOCH_RSI'], 3)\n",
        "# dfTest['SIGNAL_MEAN_STOCH_RSI'] = ta.trend.sma_indicator(dfTest['MEAN_STOCH_RSI'], 3)\n",
        "dfTest"
      ],
      "execution_count": 4,
      "outputs": [
        {
          "output_type": "execute_result",
          "data": {
            "text/html": [
              "<div>\n",
              "<style scoped>\n",
              "    .dataframe tbody tr th:only-of-type {\n",
              "        vertical-align: middle;\n",
              "    }\n",
              "\n",
              "    .dataframe tbody tr th {\n",
              "        vertical-align: top;\n",
              "    }\n",
              "\n",
              "    .dataframe thead th {\n",
              "        text-align: right;\n",
              "    }\n",
              "</style>\n",
              "<table border=\"1\" class=\"dataframe\">\n",
              "  <thead>\n",
              "    <tr style=\"text-align: right;\">\n",
              "      <th></th>\n",
              "      <th>open</th>\n",
              "      <th>high</th>\n",
              "      <th>low</th>\n",
              "      <th>close</th>\n",
              "      <th>volume</th>\n",
              "      <th>EMA28</th>\n",
              "      <th>EMA48</th>\n",
              "      <th>STOCH_RSI</th>\n",
              "    </tr>\n",
              "    <tr>\n",
              "      <th>timestamp</th>\n",
              "      <th></th>\n",
              "      <th></th>\n",
              "      <th></th>\n",
              "      <th></th>\n",
              "      <th></th>\n",
              "      <th></th>\n",
              "      <th></th>\n",
              "      <th></th>\n",
              "    </tr>\n",
              "  </thead>\n",
              "  <tbody>\n",
              "    <tr>\n",
              "      <th>2017-08-17 04:00:00</th>\n",
              "      <td>301.13</td>\n",
              "      <td>302.57</td>\n",
              "      <td>298.00</td>\n",
              "      <td>301.61</td>\n",
              "      <td>125.66877000</td>\n",
              "      <td>NaN</td>\n",
              "      <td>NaN</td>\n",
              "      <td>NaN</td>\n",
              "    </tr>\n",
              "    <tr>\n",
              "      <th>2017-08-17 05:00:00</th>\n",
              "      <td>301.61</td>\n",
              "      <td>303.28</td>\n",
              "      <td>300.00</td>\n",
              "      <td>303.10</td>\n",
              "      <td>377.67246000</td>\n",
              "      <td>NaN</td>\n",
              "      <td>NaN</td>\n",
              "      <td>NaN</td>\n",
              "    </tr>\n",
              "    <tr>\n",
              "      <th>2017-08-17 06:00:00</th>\n",
              "      <td>302.40</td>\n",
              "      <td>304.44</td>\n",
              "      <td>301.90</td>\n",
              "      <td>302.68</td>\n",
              "      <td>303.86672000</td>\n",
              "      <td>NaN</td>\n",
              "      <td>NaN</td>\n",
              "      <td>NaN</td>\n",
              "    </tr>\n",
              "    <tr>\n",
              "      <th>2017-08-17 07:00:00</th>\n",
              "      <td>302.68</td>\n",
              "      <td>307.96</td>\n",
              "      <td>302.60</td>\n",
              "      <td>307.96</td>\n",
              "      <td>754.74510000</td>\n",
              "      <td>NaN</td>\n",
              "      <td>NaN</td>\n",
              "      <td>NaN</td>\n",
              "    </tr>\n",
              "    <tr>\n",
              "      <th>2017-08-17 08:00:00</th>\n",
              "      <td>307.95</td>\n",
              "      <td>309.97</td>\n",
              "      <td>307.00</td>\n",
              "      <td>308.62</td>\n",
              "      <td>150.75029000</td>\n",
              "      <td>NaN</td>\n",
              "      <td>NaN</td>\n",
              "      <td>NaN</td>\n",
              "    </tr>\n",
              "    <tr>\n",
              "      <th>...</th>\n",
              "      <td>...</td>\n",
              "      <td>...</td>\n",
              "      <td>...</td>\n",
              "      <td>...</td>\n",
              "      <td>...</td>\n",
              "      <td>...</td>\n",
              "      <td>...</td>\n",
              "      <td>...</td>\n",
              "    </tr>\n",
              "    <tr>\n",
              "      <th>2021-08-08 06:00:00</th>\n",
              "      <td>3130.33</td>\n",
              "      <td>3184.87</td>\n",
              "      <td>3130.32</td>\n",
              "      <td>3167.07</td>\n",
              "      <td>57387.79317000</td>\n",
              "      <td>3059.181536</td>\n",
              "      <td>2992.780470</td>\n",
              "      <td>0.545060</td>\n",
              "    </tr>\n",
              "    <tr>\n",
              "      <th>2021-08-08 07:00:00</th>\n",
              "      <td>3167.25</td>\n",
              "      <td>3187.00</td>\n",
              "      <td>3131.52</td>\n",
              "      <td>3137.84</td>\n",
              "      <td>47438.39619000</td>\n",
              "      <td>3064.606258</td>\n",
              "      <td>2998.701267</td>\n",
              "      <td>0.169060</td>\n",
              "    </tr>\n",
              "    <tr>\n",
              "      <th>2021-08-08 08:00:00</th>\n",
              "      <td>3137.85</td>\n",
              "      <td>3156.00</td>\n",
              "      <td>3121.00</td>\n",
              "      <td>3124.12</td>\n",
              "      <td>25491.65035000</td>\n",
              "      <td>3068.710654</td>\n",
              "      <td>3003.820399</td>\n",
              "      <td>0.003400</td>\n",
              "    </tr>\n",
              "    <tr>\n",
              "      <th>2021-08-08 09:00:00</th>\n",
              "      <td>3124.13</td>\n",
              "      <td>3160.00</td>\n",
              "      <td>3121.00</td>\n",
              "      <td>3139.64</td>\n",
              "      <td>21967.28302000</td>\n",
              "      <td>3073.602333</td>\n",
              "      <td>3009.364056</td>\n",
              "      <td>0.131922</td>\n",
              "    </tr>\n",
              "    <tr>\n",
              "      <th>2021-08-08 10:00:00</th>\n",
              "      <td>3139.65</td>\n",
              "      <td>3151.66</td>\n",
              "      <td>3135.00</td>\n",
              "      <td>3135.00</td>\n",
              "      <td>4252.69024000</td>\n",
              "      <td>3077.836655</td>\n",
              "      <td>3014.492054</td>\n",
              "      <td>0.071752</td>\n",
              "    </tr>\n",
              "  </tbody>\n",
              "</table>\n",
              "<p>34735 rows × 8 columns</p>\n",
              "</div>"
            ],
            "text/plain": [
              "                        open     high  ...        EMA48  STOCH_RSI\n",
              "timestamp                              ...                        \n",
              "2017-08-17 04:00:00   301.13   302.57  ...          NaN        NaN\n",
              "2017-08-17 05:00:00   301.61   303.28  ...          NaN        NaN\n",
              "2017-08-17 06:00:00   302.40   304.44  ...          NaN        NaN\n",
              "2017-08-17 07:00:00   302.68   307.96  ...          NaN        NaN\n",
              "2017-08-17 08:00:00   307.95   309.97  ...          NaN        NaN\n",
              "...                      ...      ...  ...          ...        ...\n",
              "2021-08-08 06:00:00  3130.33  3184.87  ...  2992.780470   0.545060\n",
              "2021-08-08 07:00:00  3167.25  3187.00  ...  2998.701267   0.169060\n",
              "2021-08-08 08:00:00  3137.85  3156.00  ...  3003.820399   0.003400\n",
              "2021-08-08 09:00:00  3124.13  3160.00  ...  3009.364056   0.131922\n",
              "2021-08-08 10:00:00  3139.65  3151.66  ...  3014.492054   0.071752\n",
              "\n",
              "[34735 rows x 8 columns]"
            ]
          },
          "metadata": {
            "tags": []
          },
          "execution_count": 4
        }
      ]
    },
    {
      "cell_type": "markdown",
      "metadata": {
        "id": "n6R056JfPpXF"
      },
      "source": [
        "Make backtest"
      ]
    },
    {
      "cell_type": "code",
      "metadata": {
        "id": "q9xE6FZenTyC",
        "colab": {
          "base_uri": "https://localhost:8080/",
          "height": 826
        },
        "outputId": "e5779e8b-a0d1-4819-d720-1387680a483d"
      },
      "source": [
        "dt = None\n",
        "dt = pd.DataFrame(columns = ['date','position', 'price', 'frais' ,'fiat', 'coins', 'wallet', 'drawBack'])\n",
        "\n",
        "usdt = 1000\n",
        "initalWallet = usdt\n",
        "coin = 0\n",
        "wallet = 1000\n",
        "lastAth = 0\n",
        "lastIndex = df.first_valid_index()\n",
        "fee = 0.0007\n",
        "\n",
        "for index, row in dfTest.iterrows():\n",
        "  #Buy\n",
        "  if row['EMA28'] > row['EMA48'] and row['STOCH_RSI'] < 0.8 and  usdt > 0:\n",
        "    coin = usdt / row['close']\n",
        "    frais = fee * coin\n",
        "    coin = coin - frais\n",
        "    usdt = 0\n",
        "    wallet = coin * row['close']\n",
        "    if wallet > lastAth:\n",
        "      lastAth = wallet\n",
        "    # print(\"Buy COIN at\",df['close'][index],'$ the', index)\n",
        "    myrow = {'date': index,'position': \"Buy\",'price': row['close'],'frais': frais * row['close'],'fiat': usdt,'coins': coin,'wallet': wallet,'drawBack':(wallet-lastAth)/lastAth}\n",
        "    dt = dt.append(myrow,ignore_index=True)\n",
        "\n",
        "  #Sell\n",
        "  if row['EMA28'] < row['EMA48'] and row['STOCH_RSI'] > 0.2 and coin > 0:\n",
        "    usdt = coin * row['close']\n",
        "    frais = fee * usdt\n",
        "    usdt = usdt - frais\n",
        "    coin = 0\n",
        "    wallet = usdt\n",
        "    if wallet > lastAth:\n",
        "      lastAth = wallet\n",
        "    # print(\"Sell COIN at\",df['close'][index],'$ the', index)\n",
        "    myrow = {'date': index,'position': \"Sell\",'price': row['close'],'frais': frais,'fiat': usdt,'coins': coin,'wallet': wallet,'drawBack':(wallet-lastAth)/lastAth}\n",
        "    dt = dt.append(myrow,ignore_index=True)\n",
        "  \n",
        "  lastIndex = index\n",
        "\n",
        "#///////////////////////////////////////\n",
        "print(\"Period : [\" + str(dfTest.index[0]) + \"] -> [\" +str(dfTest.index[len(dfTest)-1]) + \"]\")\n",
        "dt = dt.set_index(dt['date'])\n",
        "dt.index = pd.to_datetime(dt.index)\n",
        "dt['resultat'] = dt['wallet'].diff()\n",
        "dt['resultat%'] = dt['wallet'].pct_change()*100\n",
        "dt.loc[dt['position']=='Buy','resultat'] = None\n",
        "dt.loc[dt['position']=='Buy','resultat%'] = None\n",
        "\n",
        "dt['tradeIs'] = ''\n",
        "dt.loc[dt['resultat']>0,'tradeIs'] = 'Good'\n",
        "dt.loc[dt['resultat']<=0,'tradeIs'] = 'Bad'\n",
        "\n",
        "iniClose = dfTest.iloc[0]['close']\n",
        "lastClose = dfTest.iloc[len(dfTest)-1]['close']\n",
        "holdPorcentage = ((lastClose - iniClose)/iniClose) * 100\n",
        "algoPorcentage = ((wallet - initalWallet)/initalWallet) * 100\n",
        "vsHoldPorcentage = ((algoPorcentage - holdPorcentage)/holdPorcentage) * 100\n",
        "\n",
        "print(\"Starting balance : 1000 $\")\n",
        "print(\"Final balance :\",round(wallet,2),\"$\")\n",
        "print(\"Performance vs US Dollar :\",round(algoPorcentage,2),\"%\")\n",
        "print(\"Buy and Hold Performence :\",round(holdPorcentage,2),\"%\")\n",
        "print(\"Performance vs Buy and Hold :\",round(vsHoldPorcentage,2),\"%\")\n",
        "print(\"Number of negative trades : \",dt.groupby('tradeIs')['date'].nunique()['Bad'])\n",
        "print(\"Number of positive trades : \",dt.groupby('tradeIs')['date'].nunique()['Good'])\n",
        "print(\"Average Positive Trades : \",round(dt.loc[dt['tradeIs'] == 'Good', 'resultat%'].sum()/dt.loc[dt['tradeIs'] == 'Good', 'resultat%'].count(),2),\"%\")\n",
        "print(\"Average Negative Trades : \",round(dt.loc[dt['tradeIs'] == 'Bad', 'resultat%'].sum()/dt.loc[dt['tradeIs'] == 'Bad', 'resultat%'].count(),2),\"%\")\n",
        "idbest = dt.loc[dt['tradeIs'] == 'Good', 'resultat%'].idxmax()\n",
        "idworst = dt.loc[dt['tradeIs'] == 'Bad', 'resultat%'].idxmin()\n",
        "print(\"Best trade +\"+str(round(dt.loc[dt['tradeIs'] == 'Good', 'resultat%'].max(),2)),\"%, the \",dt['date'][idbest])\n",
        "print(\"Worst trade\",round(dt.loc[dt['tradeIs'] == 'Bad', 'resultat%'].min(),2),\"%, the \",dt['date'][idworst])\n",
        "print(\"Worst drawBack\", str(100*round(dt['drawBack'].min(),2)),\"%\")\n",
        "print(\"Total fee : \",round(dt['frais'].sum(),2),\"$\")\n",
        "\n",
        "dt[['wallet','price']].plot(subplots=True, figsize=(12,10))\n",
        "print('PLOT')"
      ],
      "execution_count": 5,
      "outputs": [
        {
          "output_type": "stream",
          "text": [
            "Period : [2017-08-17 04:00:00] -> [2021-08-08 10:00:00]\n",
            "Starting balance : 1000 $\n",
            "Final balance : 138842.98 $\n",
            "Performance vs US Dollar : 13784.3 %\n",
            "Buy and Hold Performence : 939.42 %\n",
            "Performance vs Buy and Hold : 1367.32 %\n",
            "Number of negative trades :  158\n",
            "Number of positive trades :  90\n",
            "Average Positive Trades :  11.55 %\n",
            "Average Negative Trades :  -2.5 %\n",
            "Best trade +65.08 %, the  2018-01-11 14:00:00\n",
            "Worst trade -9.9 %, the  2020-05-10 07:00:00\n",
            "Worst drawBack -36.0 %\n",
            "Total fee :  3476.97 $\n",
            "PLOT\n"
          ],
          "name": "stdout"
        },
        {
          "output_type": "display_data",
          "data": {
            "image/png": "[encoded data removed]",
            "text/plain": [
              "<Figure size 864x720 with 2 Axes>"
            ]
          },
          "metadata": {
            "tags": [],
            "needs_background": "light"
          }
        }
      ]
    },
    {
      "cell_type": "markdown",
      "metadata": {
        "id": "CuuQB46p2L6T"
      },
      "source": [
        "<h1>Backtest Result</h1>"
      ]
    },
    {
      "cell_type": "code",
      "metadata": {
        "id": "H6yQzbC2nStj"
      },
      "source": [
        ""
      ],
      "execution_count": null,
      "outputs": []
    }
  ]
}
